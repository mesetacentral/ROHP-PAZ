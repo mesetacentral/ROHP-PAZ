{
 "cells": [
  {
   "cell_type": "markdown",
   "metadata": {
    "tags": []
   },
   "source": [
    "# ROHP-PAZ Data exploration and modelling\n",
    "\n",
    "### Ignacio Cobas, Didac Gallego (UAB)"
   ]
  },
  {
   "cell_type": "markdown",
   "metadata": {
    "tags": []
   },
   "source": [
    "## Introduction"
   ]
  },
  {
   "cell_type": "markdown",
   "metadata": {
    "tags": []
   },
   "source": [
    "### Imports"
   ]
  },
  {
   "cell_type": "code",
   "execution_count": 1,
   "metadata": {},
   "outputs": [],
   "source": [
    "import pandas as pd\n",
    "import seaborn as sns\n",
    "import numpy as np\n",
    "import matplotlib.pyplot as plt\n",
    "\n",
    "import torch\n",
    "\n",
    "from imblearn.over_sampling import SMOTE\n",
    "\n",
    "\n",
    "from sklearn.model_selection import train_test_split\n",
    "\n",
    "from sklearn.preprocessing import StandardScaler, PolynomialFeatures\n",
    "\n",
    "\n",
    "from sklearn.linear_model import TweedieRegressor, PassiveAggressiveRegressor, LogisticRegression, Ridge\n",
    "from sklearn.linear_model import Lasso, ElasticNet, LassoLars, LinearRegression, BayesianRidge, ARDRegression\n",
    "from sklearn.linear_model import SGDRegressor, RANSACRegressor, HuberRegressor, QuantileRegressor\n",
    "\n",
    "from sklearn.cluster import KMeans\n",
    "\n",
    "from sklearn.neural_network import MLPClassifier\n",
    "from sklearn.neighbors import KNeighborsClassifier\n",
    "from sklearn.svm import SVC\n",
    "from sklearn.gaussian_process import GaussianProcessClassifier\n",
    "from sklearn.gaussian_process.kernels import RBF, Matern\n",
    "from sklearn.tree import DecisionTreeClassifier\n",
    "from sklearn.ensemble import RandomForestClassifier, AdaBoostClassifier, VotingClassifier\n",
    "from sklearn.naive_bayes import GaussianNB, BernoulliNB\n",
    "from sklearn.discriminant_analysis import QuadraticDiscriminantAnalysis\n",
    "\n",
    "\n",
    "from sklearn.metrics import mean_squared_error\n",
    "\n",
    "from time import time\n",
    "\n",
    "import copy"
   ]
  },
  {
   "cell_type": "markdown",
   "metadata": {
    "tags": []
   },
   "source": [
    "### Data loading"
   ]
  },
  {
   "cell_type": "markdown",
   "metadata": {},
   "source": [
    "#### Data transformation moved to PAZ-Data_trans"
   ]
  },
  {
   "cell_type": "code",
   "execution_count": 2,
   "metadata": {},
   "outputs": [],
   "source": [
    "full_data = pd.read_pickle(r'../data/full_data.pkl')\n",
    "full_data = full_data.drop(['startimeUTC', 'az_surf', 'meanP_2', 'precipBelow12', 'irTemp_2', 'irTemp_below', 'dphi_0010', 'height_flag_comb'], axis=1)"
   ]
  },
  {
   "cell_type": "code",
   "execution_count": 3,
   "metadata": {},
   "outputs": [],
   "source": [
    "val_data = full_data.iloc[int(full_data.shape[0]*0.7):]\n",
    "val_data = val_data.reset_index(drop = True)"
   ]
  },
  {
   "cell_type": "code",
   "execution_count": 4,
   "metadata": {},
   "outputs": [],
   "source": [
    "full_data = full_data.iloc[:int(full_data.shape[0]*0.7)]"
   ]
  },
  {
   "cell_type": "markdown",
   "metadata": {
    "tags": []
   },
   "source": [
    "### Selecting columns"
   ]
  },
  {
   "cell_type": "code",
   "execution_count": 6,
   "metadata": {},
   "outputs": [],
   "source": [
    "def get_data_height(full_data, min_height, n_cols=1):\n",
    "    if min_height < 100:\n",
    "        min_height = '0' + str(int(min_height))\n",
    "    else:\n",
    "        min_height = str(int(min_height))\n",
    "\n",
    "    start = list(full_data.columns).index(next(filter(lambda c: c[:8] == 'profiles', full_data.columns)))\n",
    "\n",
    "    data_columns = [c for c in full_data.columns if c[-3:] == min_height] + list(full_data.columns[1:start])\n",
    "\n",
    "    data = full_data.loc[:, data_columns]\n",
    "    \n",
    "    return data"
   ]
  },
  {
   "cell_type": "markdown",
   "metadata": {
    "tags": []
   },
   "source": [
    "## Model"
   ]
  },
  {
   "cell_type": "markdown",
   "metadata": {
    "tags": []
   },
   "source": [
    "### Regressors"
   ]
  },
  {
   "cell_type": "markdown",
   "metadata": {},
   "source": [
    "Moved them to archive/PAZ-Regressors"
   ]
  },
  {
   "cell_type": "markdown",
   "metadata": {
    "tags": []
   },
   "source": [
    "### Classifiers"
   ]
  },
  {
   "cell_type": "code",
   "execution_count": 7,
   "metadata": {},
   "outputs": [],
   "source": [
    "def classify_data(data, height=12, profile_threshold=4):\n",
    "    data_classified = pd.DataFrame(data[data.columns].values, columns=data.columns)\n",
    "    \n",
    "    data_classified['rain'] = 0\n",
    "    data_classified.loc[data_classified.iloc[:, 0] > profile_threshold, 'rain'] = 1\n",
    "    \n",
    "    data_classified = data_classified.drop(data.columns[0], axis=1)\n",
    "    \n",
    "    return data_classified"
   ]
  },
  {
   "cell_type": "code",
   "execution_count": 8,
   "metadata": {},
   "outputs": [],
   "source": [
    "profile_threshold = 4\n",
    "height = 80"
   ]
  },
  {
   "cell_type": "code",
   "execution_count": 9,
   "metadata": {},
   "outputs": [],
   "source": [
    "data = get_data_height(full_data, height)\n",
    "data = classify_data(data, height=height, profile_threshold=profile_threshold)\n",
    "\n",
    "X = data.iloc[:, :-1]\n",
    "y = data.iloc[:, -1]\n",
    "\n",
    "scaler = StandardScaler()\n",
    "X = scaler.fit_transform(X)\n",
    "\n",
    "X_train, X_test, y_train, y_test = train_test_split(X, y)"
   ]
  },
  {
   "cell_type": "code",
   "execution_count": 10,
   "metadata": {},
   "outputs": [],
   "source": [
    "classifiers = [\n",
    "    DecisionTreeClassifier(max_depth=5),\n",
    "    RandomForestClassifier(max_depth=5, n_estimators=10, max_features=1),\n",
    "    AdaBoostClassifier(),\n",
    "    GaussianNB(),\n",
    "    QuadraticDiscriminantAnalysis(),\n",
    "    VotingClassifier(estimators=[('gnb', GaussianNB()), \n",
    "                                 ('qda1', QuadraticDiscriminantAnalysis(reg_param=0.5)),\n",
    "                                 ('qda2', QuadraticDiscriminantAnalysis(reg_param=0.2))\n",
    "                                \n",
    "                                ], voting='hard')\n",
    "]"
   ]
  },
  {
   "cell_type": "code",
   "execution_count": 11,
   "metadata": {},
   "outputs": [
    {
     "name": "stdout",
     "output_type": "stream",
     "text": [
      "Error: [0.99, 0.99, 0.99, 0.927, 0.952, 0.955]\n",
      "Time: [0.148, 0.17, 1.682, 0.01, 0.016, 0.193]\n"
     ]
    }
   ],
   "source": [
    "error_classifiers = []\n",
    "times = []\n",
    "for clf in classifiers:\n",
    "    st = time()\n",
    "    clf.fit(X_train, y_train)\n",
    "    error_classifiers.append(np.round(clf.score(X_test, y_test), 3))\n",
    "    times.append(np.round(time() - st, 3))\n",
    "print('Error:', error_classifiers)\n",
    "print('Time:', times)"
   ]
  },
  {
   "cell_type": "code",
   "execution_count": 12,
   "metadata": {},
   "outputs": [
    {
     "name": "stdout",
     "output_type": "stream",
     "text": [
      "DecisionTreeClassifier(max_depth=5)\n",
      "0.9900968783638321\n"
     ]
    }
   ],
   "source": [
    "best_clf = classifiers[np.argmax(error_classifiers)]\n",
    "print(best_clf)\n",
    "print(best_clf.score(X_test, y_test))"
   ]
  },
  {
   "cell_type": "markdown",
   "metadata": {},
   "source": [
    "The good results are probably a consequence of the imbalanced dataset, so it should be a good idea to upsample the rain class."
   ]
  },
  {
   "cell_type": "markdown",
   "metadata": {
    "tags": []
   },
   "source": [
    "#### Upsampling with SMOTE"
   ]
  },
  {
   "cell_type": "markdown",
   "metadata": {},
   "source": [
    "https://towardsdatascience.com/upsampling-with-smote-for-classification-projects-e91d7c44e4bf"
   ]
  },
  {
   "cell_type": "code",
   "execution_count": 36,
   "metadata": {},
   "outputs": [],
   "source": [
    "def upsample_SMOTE(X_train, y_train, ratio=1.0):\n",
    "    \"\"\"Upsamples minority class using SMOTE.\n",
    "    Ratio argument is the percentage of the upsampled minority class in relation\n",
    "    to the majority class. Default is 1.0\n",
    "    \"\"\"\n",
    "    sm = SMOTE(random_state=23, sampling_strategy=ratio)\n",
    "    X_train_sm, y_train_sm = sm.fit_resample(X_train, y_train)\n",
    "    return X_train_sm, y_train_sm"
   ]
  },
  {
   "cell_type": "code",
   "execution_count": 37,
   "metadata": {},
   "outputs": [],
   "source": [
    "profile_threshold = 4\n",
    "height = 80"
   ]
  },
  {
   "cell_type": "code",
   "execution_count": 38,
   "metadata": {},
   "outputs": [],
   "source": [
    "data = get_data_height(full_data, height)\n",
    "data = classify_data(data, height=height, profile_threshold=profile_threshold)\n",
    "\n",
    "X = data.iloc[:, :-1]\n",
    "y = data.iloc[:, -1]\n",
    "\n",
    "X_train, X_test, y_train, y_test = train_test_split(X, y)\n",
    "\n",
    "X_train, y_train = upsample_SMOTE(X_train, y_train, 1.0)"
   ]
  },
  {
   "cell_type": "code",
   "execution_count": 39,
   "metadata": {},
   "outputs": [
    {
     "name": "stdout",
     "output_type": "stream",
     "text": [
      "Error: [0.893, 0.913, 0.889, 0.887, 0.915, 0.911]\n",
      "Time: [0.305, 0.341, 3.799, 0.015, 0.033, 0.233]\n"
     ]
    }
   ],
   "source": [
    "error_classifiers = []\n",
    "times = []\n",
    "for clf in classifiers:\n",
    "    st = time()\n",
    "    clf.fit(X_train, y_train)\n",
    "    error_classifiers.append(np.round(clf.score(X_test, y_test), 3))\n",
    "    times.append(np.round(time() - st, 3))\n",
    "print('Error:', error_classifiers)\n",
    "print('Time:', times)"
   ]
  },
  {
   "cell_type": "code",
   "execution_count": 40,
   "metadata": {},
   "outputs": [
    {
     "name": "stdout",
     "output_type": "stream",
     "text": [
      "QuadraticDiscriminantAnalysis()\n",
      "0.9148188015787585\n"
     ]
    }
   ],
   "source": [
    "best_clf = classifiers[np.argmax(error_classifiers)]\n",
    "print(best_clf)\n",
    "print(best_clf.score(X_test, y_test))"
   ]
  },
  {
   "cell_type": "markdown",
   "metadata": {
    "tags": []
   },
   "source": [
    "### One model per height"
   ]
  },
  {
   "cell_type": "code",
   "execution_count": 42,
   "metadata": {},
   "outputs": [],
   "source": [
    "def model_every_height(full_data, parameters):\n",
    "    # parameters\n",
    "    profile_threshold = parameters['profile_threshold']\n",
    "    max_height = parameters['max_height']\n",
    "    min_height = parameters['min_height']\n",
    "    step = parameters['step']\n",
    "    classifier = parameters['classifier']\n",
    "\n",
    "    # predictions = dict.fromkeys(range(min_height, max_height, step))\n",
    "    # scores = dict.fromkeys(range(min_height, max_height, step))\n",
    "\n",
    "    scores = dict.fromkeys(['Total', 'Rain1', 'Rain0'], np.array([]))\n",
    "    classifiers = dict.fromkeys(range(min_height, max_height, step))\n",
    "   \n",
    "    # height loop\n",
    "    for height in range(min_height, max_height, step):\n",
    "        classifier = parameters['classifier']\n",
    "        try:\n",
    "            # get data\n",
    "            data = get_data_height(full_data, height)\n",
    "            data = classify_data(data, height, profile_threshold)\n",
    "\n",
    "            X = data.iloc[:, :-1]\n",
    "            y = data.iloc[:, -1]\n",
    "            \n",
    "            X_train, X_test, y_train, y_test = train_test_split(X, y)\n",
    "            \n",
    "            # upsample\n",
    "            data_upsampled = upsample_SMOTE(X_train, y_train, 0.5)\n",
    "            \n",
    "            # Train\n",
    "            classifier.fit(X_train, y_train)\n",
    "\n",
    "            # Test\n",
    "            total = classifier.predict(X_test)\n",
    "            rain1 = classifier.predict(X_test[y_test == 1])\n",
    "            rain0 = classifier.predict(X_test[y_test == 0])\n",
    "            \n",
    "            # predictions[height] = {'Total': total, 'Rain1': rain1, 'Rain0': rain0}\n",
    "            \n",
    "            total = (total == y_test).mean()\n",
    "            rain1 = (rain1 == 1).mean()\n",
    "            rain0 = (rain0 == 0).mean()\n",
    "            \n",
    "            # scores[height] = {'Total': total, 'Rain1': rain1, 'Rain0': rain0}\n",
    "            \n",
    "            scores['Total'] = np.append(scores['Total'], total)\n",
    "            scores['Rain1'] = np.append(scores['Rain1'], rain1)\n",
    "            scores['Rain0'] = np.append(scores['Rain0'], rain0)\n",
    "            \n",
    "            classifiers[height] = copy.deepcopy(classifier)\n",
    "\n",
    "        except Exception as e:\n",
    "            # predictions[height] = {'Total': -1, 'Rain1': -1, 'Rain0': -1}\n",
    "            # scores[height] = {'Total': 0, 'Rain1': 0, 'Rain0': 0}\n",
    "            \n",
    "            scores['Total'] = np.append(scores['Total'], 0)\n",
    "            scores['Rain1'] = np.append(scores['Rain1'], 0)\n",
    "            scores['Rain0'] = np.append(scores['Rain0'], 0)\n",
    "            \n",
    "            classifiers[height] = None\n",
    "            \n",
    "    scores = pd.DataFrame(scores)\n",
    "    scores.index = range(min_height, max_height, step)\n",
    "    \n",
    "    return scores, classifiers #, predictions"
   ]
  },
  {
   "cell_type": "code",
   "execution_count": 43,
   "metadata": {},
   "outputs": [],
   "source": [
    "classifier = VotingClassifier(estimators=[('gnb1', GaussianNB()),\n",
    "                                          ('gnb2', GaussianNB()),\n",
    "                                          ('gnb3', GaussianNB()),\n",
    "                                          ('gnb4', GaussianNB()),\n",
    "                                          ('gnb5', GaussianNB()),\n",
    "                                          ('qda1', QuadraticDiscriminantAnalysis(reg_param=0.1)),\n",
    "                                         ], voting='hard')\n",
    "\n",
    "# by setting min height to 60 and max height to 140, precision goes to 80%\n",
    "# at very low heights (or very high) there probably are very few rain clouds,\n",
    "# which means that upsampling does not have much to start with, so it doesn't do very well\n",
    "\n",
    "parameters = {\n",
    "    'profile_threshold': 2,\n",
    "    'max_height': 142,\n",
    "    'min_height': 60,\n",
    "    'step': 2,\n",
    "    'classifier': classifier\n",
    "}"
   ]
  },
  {
   "cell_type": "code",
   "execution_count": 74,
   "metadata": {},
   "outputs": [],
   "source": [
    "scores, classifiers = model_every_height(full_data, parameters)"
   ]
  },
  {
   "cell_type": "markdown",
   "metadata": {},
   "source": [
    "### Building a regression"
   ]
  },
  {
   "cell_type": "code",
   "execution_count": 78,
   "metadata": {
    "tags": []
   },
   "outputs": [],
   "source": [
    "precision_parameters = {\n",
    "    'min_profile_threshold': 1,\n",
    "    'max_profile_threshold': 5,\n",
    "    'precision': 10,\n",
    "    \n",
    "    'max_height': 140,\n",
    "    'min_height': 60,\n",
    "    'step': 2,\n",
    "}"
   ]
  },
  {
   "cell_type": "code",
   "execution_count": 41,
   "metadata": {
    "tags": []
   },
   "outputs": [],
   "source": [
    "def precision_model_per_layer(full_data, precision_parameters):\n",
    "    min_profile_threshold = precision_parameters['min_profile_threshold']\n",
    "    max_profile_threshold = precision_parameters['max_profile_threshold']\n",
    "    precision = precision_parameters['precision']\n",
    "    \n",
    "    # list(np.linspace(min_profile_threshold, max_profile_threshold, precision))\n",
    "    results = dict.fromkeys(np.linspace(min_profile_threshold, max_profile_threshold, precision))\n",
    "    \n",
    "    for profile_threshold in np.linspace(min_profile_threshold, max_profile_threshold, precision):\n",
    "        \n",
    "        parameters = {\n",
    "            'profile_threshold': profile_threshold,\n",
    "            'max_height': precision_parameters['max_height'],\n",
    "            'min_height': precision_parameters['min_height'],\n",
    "            'step': precision_parameters['step'],\n",
    "            'classifier': classifier\n",
    "        }\n",
    "        \n",
    "        scores, classifiers = model_every_height(full_data, parameters)\n",
    "        \n",
    "        results[profile_threshold] = {'Score': scores, 'Classifiers': classifiers}\n",
    "\n",
    "    return results"
   ]
  },
  {
   "cell_type": "code",
   "execution_count": 80,
   "metadata": {},
   "outputs": [
    {
     "name": "stderr",
     "output_type": "stream",
     "text": [
      "/home/yank/PAZ/notebooks/.venv/lib/python3.8/site-packages/sklearn/discriminant_analysis.py:878: UserWarning: Variables are collinear\n",
      "  warnings.warn(\"Variables are collinear\")\n",
      "/home/yank/PAZ/notebooks/.venv/lib/python3.8/site-packages/sklearn/discriminant_analysis.py:878: UserWarning: Variables are collinear\n",
      "  warnings.warn(\"Variables are collinear\")\n",
      "/home/yank/PAZ/notebooks/.venv/lib/python3.8/site-packages/sklearn/discriminant_analysis.py:878: UserWarning: Variables are collinear\n",
      "  warnings.warn(\"Variables are collinear\")\n",
      "/home/yank/PAZ/notebooks/.venv/lib/python3.8/site-packages/sklearn/discriminant_analysis.py:878: UserWarning: Variables are collinear\n",
      "  warnings.warn(\"Variables are collinear\")\n"
     ]
    }
   ],
   "source": [
    "results = precision_model_per_layer(full_data, precision_parameters)"
   ]
  },
  {
   "cell_type": "code",
   "execution_count": 92,
   "metadata": {},
   "outputs": [
    {
     "data": {
      "text/plain": [
       "[1.0,\n",
       " 1.4444444444444444,\n",
       " 1.8888888888888888,\n",
       " 2.333333333333333,\n",
       " 2.7777777777777777,\n",
       " 3.2222222222222223,\n",
       " 3.6666666666666665,\n",
       " 4.111111111111111,\n",
       " 4.555555555555555,\n",
       " 5.0]"
      ]
     },
     "execution_count": 92,
     "metadata": {},
     "output_type": "execute_result"
    }
   ],
   "source": [
    "list(results.keys())"
   ]
  },
  {
   "cell_type": "code",
   "execution_count": 108,
   "metadata": {},
   "outputs": [
    {
     "data": {
      "text/plain": [
       "0.5037928158428088"
      ]
     },
     "execution_count": 108,
     "metadata": {},
     "output_type": "execute_result"
    }
   ],
   "source": [
    "results[list(results.keys())[0]]['Score'].Rain1.mean()"
   ]
  },
  {
   "cell_type": "code",
   "execution_count": 723,
   "metadata": {},
   "outputs": [],
   "source": [
    "def regression_prediction(results, precision_parameters):\n",
    "    max_height = precision_parameters['max_height']\n",
    "    min_height = precision_parameters['min_height']\n",
    "    step = precision_parameters['step']\n",
    "\n",
    "    min_profile_threshold = precision_parameters['min_profile_threshold']\n",
    "    max_profile_threshold = precision_parameters['max_profile_threshold']\n",
    "    precision = precision_parameters['precision']\n",
    "\n",
    "    predictions = dict.fromkeys(range(min_height, max_height, step), dict.fromkeys(np.linspace(min_profile_threshold, max_profile_threshold, precision)))\n",
    "    \n",
    "    for height in range(min_height, max_height, step):\n",
    "        for profile_threshold in np.linspace(min_profile_threshold, max_profile_threshold, precision):\n",
    "            data = get_data_height(val_data, height)\n",
    "            data = classify_data(data, height, profile_threshold)\n",
    "\n",
    "            classifier = results[profile_threshold]['Classifiers'][height]\n",
    "\n",
    "            X = data.iloc[:, :-1]\n",
    "            y = data.iloc[:, -1]\n",
    "\n",
    "            try:\n",
    "                predictions[height][profile_threshold] = copy.deepcopy(classifier.predict(X))\n",
    "            except AttributeError:\n",
    "                predictions[height][profile_threshold] = None\n",
    "\n",
    "        # if prediction is 1, means its higher than that threshold\n",
    "        # so we sum to know how many 'higher than' we got\n",
    "        # its not perfect, because its not 100% true that\n",
    "        # when a classifier says higher, the last one said higher as well\n",
    "        # but i have seen that it was more than 95% likely\n",
    "        # and this allows me to simplify this very much\n",
    "        predictions[height] = pd.DataFrame(predictions[height]).sum(axis=1)\n",
    "\n",
    "        profile_thresholds = list(results.keys())\n",
    "\n",
    "        # profile thresholds are now the values in between the thresholds, so we add one more to the end of the list\n",
    "        profile_thresholds -= (profile_thresholds[1] - profile_thresholds[0])/2\n",
    "        profile_thresholds = np.append(profile_thresholds, profile_thresholds[-1] + 2*(profile_thresholds[1] - profile_thresholds[0])/2)\n",
    "\n",
    "        # transforming from one linear space to another one\n",
    "        # profile_threshold = m * prediction + n\n",
    "        m = profile_thresholds[1] - profile_thresholds[0]\n",
    "        n = profile_thresholds.min()\n",
    "\n",
    "        predictions[height] *= m\n",
    "        predictions[height] += n\n",
    "    \n",
    "    predictions = pd.DataFrame(predictions)\n",
    "    \n",
    "    return predictions"
   ]
  },
  {
   "cell_type": "code",
   "execution_count": null,
   "metadata": {},
   "outputs": [],
   "source": [
    "predictions = regression_prediction(results, precision_parameters)"
   ]
  },
  {
   "cell_type": "code",
   "execution_count": null,
   "metadata": {},
   "outputs": [],
   "source": [
    "predictions"
   ]
  },
  {
   "cell_type": "code",
   "execution_count": 714,
   "metadata": {},
   "outputs": [
    {
     "name": "stdout",
     "output_type": "stream",
     "text": [
      "1231\n"
     ]
    }
   ],
   "source": [
    "# rainy days according to model\n",
    "rainy = []\n",
    "for i in range(predictions.shape[0]):\n",
    "    if (predictions.iloc[i] > 4.3).sum() > 10:\n",
    "        rainy.append(i)\n",
    "print(len(rainy))"
   ]
  },
  {
   "cell_type": "code",
   "execution_count": 715,
   "metadata": {},
   "outputs": [
    {
     "data": {
      "text/plain": [
       "profiles_h058    0.507519\n",
       "profiles_h060    0.272313\n",
       "profiles_h062    0.319891\n",
       "profiles_h064   -0.046141\n",
       "profiles_h066   -0.018834\n",
       "profiles_h068    0.160531\n",
       "profiles_h070    0.509882\n",
       "profiles_h072    0.575662\n",
       "profiles_h074    0.503398\n",
       "profiles_h076   -0.117727\n",
       "profiles_h078   -0.943661\n",
       "profiles_h080   -0.440998\n",
       "profiles_h082     1.79211\n",
       "profiles_h084    0.806526\n",
       "profiles_h086   -0.598274\n",
       "profiles_h088   -0.169537\n",
       "profiles_h090   -0.050793\n",
       "profiles_h092    0.137485\n",
       "profiles_h094    -0.40516\n",
       "profiles_h096   -0.600271\n",
       "profiles_h098   -0.455257\n",
       "profiles_h100   -0.116482\n",
       "profiles_h102   -0.230781\n",
       "profiles_h104    0.198316\n",
       "profiles_h106   -0.012136\n",
       "profiles_h108   -0.072762\n",
       "profiles_h110    0.365702\n",
       "profiles_h112    0.679315\n",
       "profiles_h114    0.809451\n",
       "profiles_h116     1.01272\n",
       "profiles_h118    0.946376\n",
       "profiles_h120    0.817804\n",
       "profiles_h122    0.505322\n",
       "profiles_h124    0.282901\n",
       "profiles_h126     0.19444\n",
       "profiles_h128   -0.096389\n",
       "profiles_h130   -0.071827\n",
       "profiles_h132   -0.088138\n",
       "profiles_h134   -0.325515\n",
       "profiles_h136    -0.36118\n",
       "Name: 274, dtype: object"
      ]
     },
     "execution_count": 715,
     "metadata": {},
     "output_type": "execute_result"
    },
    {
     "data": {
      "image/png": "[encoded data removed]",
      "text/plain": [
       "<Figure size 432x288 with 1 Axes>"
      ]
     },
     "metadata": {
      "needs_background": "light"
     },
     "output_type": "display_data"
    }
   ],
   "source": [
    "i = 14\n",
    "x = predictions.iloc[rainy[i]].index\n",
    "y = predictions.iloc[rainy[i]]\n",
    "sns.scatterplot(x=x, y=y)\n",
    "\n",
    "val_data.iloc[rainy[i]][val_data.columns[16:56]]"
   ]
  },
  {
   "cell_type": "code",
   "execution_count": 716,
   "metadata": {},
   "outputs": [
    {
     "name": "stdout",
     "output_type": "stream",
     "text": [
      "477\n"
     ]
    }
   ],
   "source": [
    "# rainy days according to data\n",
    "rainy = []\n",
    "for i in range(val_data.shape[0]):\n",
    "    if (val_data.iloc[i, 17:68] > 3).sum() > 5:\n",
    "        rainy.append(i)\n",
    "print(len(rainy))"
   ]
  },
  {
   "cell_type": "code",
   "execution_count": 722,
   "metadata": {},
   "outputs": [
    {
     "data": {
      "text/plain": [
       "profiles_h058      3.6093\n",
       "profiles_h060     4.79088\n",
       "profiles_h062     5.99487\n",
       "profiles_h064     6.20084\n",
       "profiles_h066     6.19939\n",
       "profiles_h068     5.78752\n",
       "profiles_h070     5.33435\n",
       "profiles_h072     5.45387\n",
       "profiles_h074     5.35306\n",
       "profiles_h076      5.7203\n",
       "profiles_h078     5.79342\n",
       "profiles_h080     6.04356\n",
       "profiles_h082     5.79545\n",
       "profiles_h084     5.31071\n",
       "profiles_h086     5.52499\n",
       "profiles_h088     4.97084\n",
       "profiles_h090     4.57796\n",
       "profiles_h092     4.16941\n",
       "profiles_h094     3.13863\n",
       "profiles_h096     2.55955\n",
       "profiles_h098     2.18524\n",
       "profiles_h100     1.86472\n",
       "profiles_h102     1.49535\n",
       "profiles_h104     1.59856\n",
       "profiles_h106     1.54138\n",
       "profiles_h108     1.00924\n",
       "profiles_h110    0.881321\n",
       "profiles_h112    0.726307\n",
       "profiles_h114    0.315233\n",
       "profiles_h116     0.00973\n",
       "profiles_h118   -0.055887\n",
       "profiles_h120   -0.105541\n",
       "profiles_h122   -0.014525\n",
       "profiles_h124    0.232878\n",
       "profiles_h126    0.249062\n",
       "profiles_h128    0.079994\n",
       "profiles_h130    0.080302\n",
       "profiles_h132    0.192306\n",
       "profiles_h134    0.105976\n",
       "profiles_h136    -0.15869\n",
       "Name: 788, dtype: object"
      ]
     },
     "execution_count": 722,
     "metadata": {},
     "output_type": "execute_result"
    },
    {
     "data": {
      "image/png": "[encoded data removed]",
      "text/plain": [
       "<Figure size 432x288 with 1 Axes>"
      ]
     },
     "metadata": {
      "needs_background": "light"
     },
     "output_type": "display_data"
    }
   ],
   "source": [
    "i = 13\n",
    "x = predictions.iloc[rainy[i]].index\n",
    "y = predictions.iloc[rainy[i]]\n",
    "sns.scatterplot(x=x, y=y)\n",
    "\n",
    "val_data.iloc[rainy[i]][val_data.columns[16:56]]"
   ]
  },
  {
   "cell_type": "code",
   "execution_count": 701,
   "metadata": {},
   "outputs": [
    {
     "data": {
      "text/plain": [
       "False"
      ]
     },
     "execution_count": 701,
     "metadata": {},
     "output_type": "execute_result"
    }
   ],
   "source": [
    "(val_data.iloc[0, 17:68].max() > 3)"
   ]
  },
  {
   "cell_type": "code",
   "execution_count": null,
   "metadata": {},
   "outputs": [],
   "source": []
  }
 ],
 "metadata": {
  "kernelspec": {
   "display_name": ".venv",
   "language": "python",
   "name": ".venv"
  },
  "language_info": {
   "codemirror_mode": {
    "name": "ipython",
    "version": 3
   },
   "file_extension": ".py",
   "mimetype": "text/x-python",
   "name": "python",
   "nbconvert_exporter": "python",
   "pygments_lexer": "ipython3",
   "version": "3.8.10"
  }
 },
 "nbformat": 4,
 "nbformat_minor": 4
}
